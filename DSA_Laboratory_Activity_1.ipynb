{
  "nbformat": 4,
  "nbformat_minor": 0,
  "metadata": {
    "colab": {
      "provenance": [],
      "authorship_tag": "ABX9TyM4eTjL10LRMVunvHqcJt7Y",
      "include_colab_link": true
    },
    "kernelspec": {
      "name": "python3",
      "display_name": "Python 3"
    },
    "language_info": {
      "name": "python"
    }
  },
  "cells": [
    {
      "cell_type": "markdown",
      "metadata": {
        "id": "view-in-github",
        "colab_type": "text"
      },
      "source": [
        "<a href=\"https://colab.research.google.com/github/PaulJustinePolestico/CPE-201L-DSA-2-A/blob/main/DSA_Laboratory_Activity_1.ipynb\" target=\"_parent\"><img src=\"https://colab.research.google.com/assets/colab-badge.svg\" alt=\"Open In Colab\"/></a>"
      ]
    },
    {
      "cell_type": "code",
      "execution_count": 11,
      "metadata": {
        "colab": {
          "base_uri": "https://localhost:8080/"
        },
        "id": "bTIMOvPYEfHv",
        "outputId": "8df38962-8bbc-4cf2-ed99-57355e318dd6"
      },
      "outputs": [
        {
          "output_type": "stream",
          "name": "stdout",
          "text": [
            "Hello, my name is Pentagon\n",
            "Hello, my name is Hexagon\n",
            "Hello, my name is Octagon\n",
            "Would you like to find the area of any of the three (Pentagon/Hexagon/Octagon)?Nah\n",
            "Uh...I didn't catch that. Please tell me whether you want to or not. Take your time.\n"
          ]
        }
      ],
      "source": [
        "import math\n",
        "\n",
        "class Polygon:\n",
        "  def __init__(self, name,sides):\n",
        "    self.name = name\n",
        "    self.sides = sides\n",
        "\n",
        "  def say_hi(self):\n",
        "    print(\"Hello, my name is\", self.name)\n",
        "\n",
        "polygon1 = Polygon('Pentagon', 5)\n",
        "polygon2 = Polygon('Hexagon', 6)\n",
        "polygon3 = Polygon('Octagon', 8)\n",
        "\n",
        "polygon1.say_hi()\n",
        "polygon2.say_hi()\n",
        "polygon3.say_hi()\n",
        "\n",
        "question = input (\"Would you like to find the area of any of the three (Pentagon/Hexagon/Octagon)?\").lower()\n",
        "if question == \"yes\":\n",
        "  print (\"Great! You may choose one now! :D\")\n",
        "\n",
        "  shape = input (\"is it a pentagon,hexagon, or octagon?\").lower()\n",
        "\n",
        "  if shape in [\"pentagon\", \"hexagon\", \"octagon\"]:\n",
        "      try:\n",
        "         side = float(input(\"What is the length of a side (can be an integer or float number)? :\"))\n",
        "\n",
        "         if shape == \"pentagon\":\n",
        "           area = (5 * (side ** 2)) / (4 * math.tan(math.pi / 5))\n",
        "         elif shape == \"hexagon\":\n",
        "           area = (6 * (side ** 2)) / (4 * math.tan(math.pi / 6))\n",
        "         elif shape == \"octagon\":\n",
        "           area = (8 * (side ** 2)) / (4 * math.tan(math.pi / 8))\n",
        "\n",
        "         print (f\"The area of the {shape.capitalize()} is {area:.2f} units^2. Math magic complete!\")\n",
        "\n",
        "      except ValueError:\n",
        "          print(\"Oops! That's not a valid number. Please try again using an integer or float number\")\n",
        "\n",
        "elif question == \"no\":\n",
        "  print(\"Oh. No problem! You can come back anytime you wish hehehe! :) !\")\n",
        "else:\n",
        "  print(\"Uh...I didn't catch that. Please tell me whether you want to or not. Take your time.\")"
      ]
    }
  ]
}