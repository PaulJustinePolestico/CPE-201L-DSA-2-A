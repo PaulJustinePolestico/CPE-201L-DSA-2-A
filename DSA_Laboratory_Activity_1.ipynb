{
  "nbformat": 4,
  "nbformat_minor": 0,
  "metadata": {
    "colab": {
      "provenance": [],
      "authorship_tag": "ABX9TyOH8g44MqxePvaN5Ymq3V3G",
      "include_colab_link": true
    },
    "kernelspec": {
      "name": "python3",
      "display_name": "Python 3"
    },
    "language_info": {
      "name": "python"
    }
  },
  "cells": [
    {
      "cell_type": "markdown",
      "metadata": {
        "id": "view-in-github",
        "colab_type": "text"
      },
      "source": [
        "<a href=\"https://colab.research.google.com/github/PaulJustinePolestico/CPE-201L-DSA-2-A/blob/main/DSA_Laboratory_Activity_1.ipynb\" target=\"_parent\"><img src=\"https://colab.research.google.com/assets/colab-badge.svg\" alt=\"Open In Colab\"/></a>"
      ]
    },
    {
      "cell_type": "code",
      "execution_count": null,
      "metadata": {
        "colab": {
          "base_uri": "https://localhost:8080/"
        },
        "id": "bTIMOvPYEfHv",
        "outputId": "46a15ec2-e8a7-40f5-8946-329e8c1fb16e"
      },
      "outputs": [
        {
          "output_type": "stream",
          "name": "stdout",
          "text": [
            "Hello, my name is Pentagon\n",
            "Hello, my name is Hexagon\n",
            "Hello, my name is Octagon\n"
          ]
        }
      ],
      "source": [
        "class Polygon:\n",
        "  def __init__(self, name,sides):\n",
        "    self.name = name\n",
        "    self.sides = sides\n",
        "\n",
        "  def say_hi(self):\n",
        "    print(\"Hello, my name is\", self.name)\n",
        "\n",
        "polygon1 = Polygon('Pentagon')\n",
        "polygon2 = Polygon('Hexagon')\n",
        "polygon3 = Polygon('Octagon')\n",
        "\n",
        "polygon1.say_hi()\n",
        "polygon2.say_hi()\n",
        "polygon3.say_hi()\n",
        "\n",
        "question = input (\"Would you like to find the area of any of the three (Pentagon/Hexagon/Octagon)?\")\n",
        "if question == \"yes\":\n",
        "  print (\"Great! You may choose one now! :D\")\n",
        "\n",
        "\n"
      ]
    }
  ]
}