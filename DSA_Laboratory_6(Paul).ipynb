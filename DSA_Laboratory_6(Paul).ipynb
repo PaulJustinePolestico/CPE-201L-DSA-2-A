{
  "nbformat": 4,
  "nbformat_minor": 0,
  "metadata": {
    "colab": {
      "provenance": [],
      "authorship_tag": "ABX9TyM88Bq+Sprx4dd1aRRBBiU2",
      "include_colab_link": true
    },
    "kernelspec": {
      "name": "python3",
      "display_name": "Python 3"
    },
    "language_info": {
      "name": "python"
    }
  },
  "cells": [
    {
      "cell_type": "markdown",
      "metadata": {
        "id": "view-in-github",
        "colab_type": "text"
      },
      "source": [
        "<a href=\"https://colab.research.google.com/github/PaulJustinePolestico/CPE-201L-DSA-2-A/blob/main/DSA_Laboratory_6(Paul).ipynb\" target=\"_parent\"><img src=\"https://colab.research.google.com/assets/colab-badge.svg\" alt=\"Open In Colab\"/></a>"
      ]
    },
    {
      "cell_type": "code",
      "execution_count": 33,
      "metadata": {
        "id": "V3_yabHnLgnQ"
      },
      "outputs": [],
      "source": [
        "#Singly Linked List of Prime Numbers\n",
        "\n",
        "#Node Class\n",
        "class Node:\n",
        "    def __init__(self, data):\n",
        "        self.data = data\n",
        "        self.next = None\n",
        "\n",
        "#Linked List Class\n",
        "class LinkedList:\n",
        "    def __init__(self):\n",
        "        self.head = None\n",
        "\n",
        "    def insert(self, new_data):\n",
        "        new_node = Node(new_data)\n",
        "        if not self.head:\n",
        "            self.head = new_node\n",
        "        else:\n",
        "            temp = self.head\n",
        "            while temp.next:\n",
        "                temp = temp.next\n",
        "            temp.next = new_node\n",
        "\n",
        "#Displays the Prime Numbers with the Head and Tail data\n",
        "    def display(self):\n",
        "        temp = self.head\n",
        "        print(\"Singly Linked List of Prime Numbers less than 20: \")\n",
        "        while (temp):\n",
        "            print(temp.data, end = \" \")\n",
        "            if temp.next is None:\n",
        "                tail = temp\n",
        "            temp = temp.next\n",
        "        print()\n",
        "        if self.head:\n",
        "           print(f\"Head: {self.head.data}\")\n",
        "           if 'tail' in locals():\n",
        "            print(f\"Tail: {tail.data}\")\n",
        "\n",
        "#Checks For Prime Numbers Less Than 20\n",
        "def isPrime(n):\n",
        "    if (n <= 1):\n",
        "        return False\n",
        "    if (n <= 3):\n",
        "        return True\n",
        "    if (n % 2 == 0 or n % 3 == 0):\n",
        "        return False\n",
        "    i = 5\n",
        "    while i * i <= n:\n",
        "        if (n % i == 0 or n % (i + 2) == 0):\n",
        "            return False\n",
        "        i = i + 6\n",
        "    return True"
      ]
    },
    {
      "cell_type": "code",
      "source": [
        "#Driver Code\n",
        "linked_list = LinkedList()\n",
        "for num in range(2,20):\n",
        "  if isPrime(num):\n",
        "    linked_list.insert(num)\n",
        "\n",
        "linked_list.display()"
      ],
      "metadata": {
        "colab": {
          "base_uri": "https://localhost:8080/"
        },
        "id": "OLWiCLJTO_gh",
        "outputId": "0f5ae526-3f56-4019-fdeb-363ce9c752f9"
      },
      "execution_count": 34,
      "outputs": [
        {
          "output_type": "stream",
          "name": "stdout",
          "text": [
            "Singly Linked List of Prime Numbers less than 20: \n",
            "2 3 5 7 11 13 17 19 \n",
            "Head: 2\n",
            "Tail: 19\n"
          ]
        }
      ]
    }
  ]
}