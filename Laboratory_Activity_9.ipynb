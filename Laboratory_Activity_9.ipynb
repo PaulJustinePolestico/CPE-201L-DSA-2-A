{
  "nbformat": 4,
  "nbformat_minor": 0,
  "metadata": {
    "colab": {
      "provenance": [],
      "authorship_tag": "ABX9TyOf2gsT4fmrHjnwXsalXxO4",
      "include_colab_link": true
    },
    "kernelspec": {
      "name": "python3",
      "display_name": "Python 3"
    },
    "language_info": {
      "name": "python"
    }
  },
  "cells": [
    {
      "cell_type": "markdown",
      "metadata": {
        "id": "view-in-github",
        "colab_type": "text"
      },
      "source": [
        "<a href=\"https://colab.research.google.com/github/PaulJustinePolestico/CPE-201L-DSA-2-A/blob/main/Laboratory_Activity_9.ipynb\" target=\"_parent\"><img src=\"https://colab.research.google.com/assets/colab-badge.svg\" alt=\"Open In Colab\"/></a>"
      ]
    },
    {
      "cell_type": "code",
      "execution_count": 6,
      "metadata": {
        "colab": {
          "base_uri": "https://localhost:8080/"
        },
        "id": "eldM6vO6kBOh",
        "outputId": "39cb9e57-2194-4308-cb4a-7c24c850cb95"
      },
      "outputs": [
        {
          "output_type": "stream",
          "name": "stdout",
          "text": [
            "Pushed Element: 1\n",
            "Pushed Element: 2\n",
            "Pushed Element: 3\n",
            "Pushed Element: 4\n",
            "Pushed Element: 5\n",
            "The elements in the stack are:['1', '2', '3', '4', '5']\n"
          ]
        }
      ],
      "source": [
        "#Stack Implementation in python\n",
        "\n",
        "#Creating a stack\n",
        "def create_stack():\n",
        "  stack = []\n",
        "  return stack\n",
        "\n",
        "#Creating an empty stack\n",
        "def is_empty(stack):\n",
        "  return len(stack) == 0\n",
        "\n",
        "#Adding items into the stack\n",
        "def push(stack,item):\n",
        "  stack.append(item)\n",
        "  print(\"Pushed Element: \"+ item)\n",
        "\n",
        "#Removing an element from the stack\n",
        "def pop(stack):\n",
        "  if(is_empty(stack)):\n",
        "    return \"The stack is empty\"\n",
        "  return stack.pop()\n",
        "\n",
        "stack = create_stack()\n",
        "push(stack,str(1))\n",
        "push(stack,str(2))\n",
        "push(stack,str(3))\n",
        "push(stack,str(4))\n",
        "push(stack,str(5))\n",
        "\n",
        "print(\"The elements in the stack are:\"+str(stack))"
      ]
    },
    {
      "cell_type": "code",
      "source": [
        "#Queues Implementation in python\n",
        "class Queue:\n",
        "  def __init__(self):\n",
        "    self.queue = []\n",
        "\n",
        "  def enqueue(self,item):\n",
        "    self.queue.append(item)\n",
        "\n",
        "  def dequeue(self):\n",
        "    if self.is_empty():\n",
        "      return \"Queue is empty\"\n",
        "    return self.queue.pop(0)\n",
        "\n",
        "  def is_empty(self):\n",
        "    return len(self.queue) == 0\n",
        "\n",
        "\n",
        "#Queue\n",
        "myQueue = Queue()\n",
        "myQueue.enqueue(1)\n",
        "myQueue.enqueue(2)\n",
        "myQueue.enqueue(3)\n",
        "myQueue.enqueue(4)\n",
        "myQueue.enqueue(5)\n",
        "\n",
        "print(\"Items in the Queue: \" +str(myQueue.queue))\n",
        "\n",
        "#Removing an element\n",
        "removed_item = myQueue.dequeue()\n",
        "\n",
        "print(f\"Removed item in the Queue: {removed_item}\")\n",
        "\n",
        "#Result of Queue after the removal of an element\n",
        "print(\"Items in the Queue: \" +str(myQueue.queue))"
      ],
      "metadata": {
        "colab": {
          "base_uri": "https://localhost:8080/"
        },
        "id": "pOtuvbLEmUtc",
        "outputId": "79743678-ef42-4e28-bbda-549c534445b2"
      },
      "execution_count": 7,
      "outputs": [
        {
          "output_type": "stream",
          "name": "stdout",
          "text": [
            "Items in the Queue: [1, 2, 3, 4, 5]\n",
            "Removed item in the Queue: 1\n",
            "Items in the Queue: [2, 3, 4, 5]\n"
          ]
        }
      ]
    }
  ]
}