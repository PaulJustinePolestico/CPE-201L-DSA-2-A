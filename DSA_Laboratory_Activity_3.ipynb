{
  "nbformat": 4,
  "nbformat_minor": 0,
  "metadata": {
    "colab": {
      "provenance": [],
      "authorship_tag": "ABX9TyPHW2bPdZhbco0nY+U8XLMa",
      "include_colab_link": true
    },
    "kernelspec": {
      "name": "python3",
      "display_name": "Python 3"
    },
    "language_info": {
      "name": "python"
    }
  },
  "cells": [
    {
      "cell_type": "markdown",
      "metadata": {
        "id": "view-in-github",
        "colab_type": "text"
      },
      "source": [
        "<a href=\"https://colab.research.google.com/github/PaulJustinePolestico/CPE-201L-DSA-2-A/blob/main/DSA_Laboratory_Activity_3.ipynb\" target=\"_parent\"><img src=\"https://colab.research.google.com/assets/colab-badge.svg\" alt=\"Open In Colab\"/></a>"
      ]
    },
    {
      "cell_type": "code",
      "execution_count": 5,
      "metadata": {
        "colab": {
          "base_uri": "https://localhost:8080/"
        },
        "id": "FMng9L61_Vhh",
        "outputId": "edd12b22-c8a5-4cfd-cf26-874c6c5d4e23"
      },
      "outputs": [
        {
          "output_type": "stream",
          "name": "stdout",
          "text": [
            "26\n",
            "98\n",
            "62\n",
            "The sum of test scores with even numbers is 186\n"
          ]
        }
      ],
      "source": [
        "test_scores = [26,49,98,87,62,75]\n",
        "total = 0\n",
        "for i in test_scores:\n",
        "  if i % 2 == 0:\n",
        "    print (i)\n",
        "\n",
        "total_of_scores = sum(i for i in test_scores if i % 2 == 0)\n",
        "print (\"The sum of test scores with even numbers is\",total_of_scores)"
      ]
    }
  ]
}