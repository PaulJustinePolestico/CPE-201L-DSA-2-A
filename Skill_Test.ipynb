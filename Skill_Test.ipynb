{
  "nbformat": 4,
  "nbformat_minor": 0,
  "metadata": {
    "colab": {
      "provenance": [],
      "authorship_tag": "ABX9TyMgmOfa0P3TaMjn4JhrP3yO",
      "include_colab_link": true
    },
    "kernelspec": {
      "name": "python3",
      "display_name": "Python 3"
    },
    "language_info": {
      "name": "python"
    }
  },
  "cells": [
    {
      "cell_type": "markdown",
      "metadata": {
        "id": "view-in-github",
        "colab_type": "text"
      },
      "source": [
        "<a href=\"https://colab.research.google.com/github/PaulJustinePolestico/CPE-201L-DSA-2-A/blob/main/Skill_Test.ipynb\" target=\"_parent\"><img src=\"https://colab.research.google.com/assets/colab-badge.svg\" alt=\"Open In Colab\"/></a>"
      ]
    },
    {
      "cell_type": "markdown",
      "source": [
        "Objectives of the Skill Test:\n",
        "1. Choose only one (1) Data Structure (Array, Linked-List (Singly,Doubly), Stack, Queue)\n",
        "\n",
        "2. Create a python program that appends each character of your fullname and traverse each character\n",
        "\n",
        "3. Save your Python program as Skill-Test in your Colab and Github"
      ],
      "metadata": {
        "id": "L8lcTRLObiTj"
      }
    },
    {
      "cell_type": "code",
      "execution_count": 37,
      "metadata": {
        "colab": {
          "base_uri": "https://localhost:8080/"
        },
        "id": "5lOCyJQNUfhU",
        "outputId": "8d0bc948-f00c-477f-b9d6-afe1879a32d1"
      },
      "outputs": [
        {
          "output_type": "stream",
          "name": "stdout",
          "text": [
            "My Full name: \n",
            "Paul Justine D. Polestico\n",
            "\n",
            "This is the Stack in its original order: \n",
            "['P', 'a', 'u', 'l', ' ', 'J', 'u', 's', 't', 'i', 'n', 'e', ' ', 'D', '.', ' ', 'P', 'o', 'l', 'e', 's', 't', 'i', 'c', 'o']\n",
            "\n",
            "and this is the Stack in reverse order (LIFO): \n",
            "o c i t s e l o P   . D   e n i t s u J   l u a P "
          ]
        }
      ],
      "source": [
        "class Stack:\n",
        "  def __init__(self):\n",
        "    self.stack = []\n",
        "\n",
        "  def push(self,dataval):\n",
        "\n",
        "      self.stack.append(dataval)\n",
        "      return True\n",
        "\n",
        "  def pop(self):\n",
        "    if len(self.stack) <= 0:\n",
        "      return (\"No element in the Stack\")\n",
        "    else:\n",
        "      return self.stack.pop()\n",
        "\n",
        "  def display(self):\n",
        "    print(self.stack)\n",
        "\n",
        "  def display_reverse(self):\n",
        "    for item in reversed(self.stack):\n",
        "      print(item)\n",
        "\n",
        "\n",
        "print(\"My Full name: \")\n",
        "full_name = (\"Paul Justine D. Polestico\")\n",
        "print (full_name + \"\\n\")\n",
        "\n",
        "name_stack = Stack()\n",
        "\n",
        "\n",
        "\n",
        "for char in full_name:\n",
        "  name_stack.push(char)\n",
        "\n",
        "\n",
        "print(\"This is the Stack in its original order: \")\n",
        "name_stack.display()\n",
        "\n",
        "print(\"\\nand this is the Stack in reverse order (LIFO): \")\n",
        "while name_stack.stack:\n",
        "  print(name_stack.pop(), end = \" \")\n",
        "\n",
        "\n",
        "\n"
      ]
    }
  ]
}