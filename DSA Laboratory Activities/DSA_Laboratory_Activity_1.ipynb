{
  "nbformat": 4,
  "nbformat_minor": 0,
  "metadata": {
    "colab": {
      "provenance": [],
      "authorship_tag": "ABX9TyPkvjyStFSranvkfg1AEadW",
      "include_colab_link": true
    },
    "kernelspec": {
      "name": "python3",
      "display_name": "Python 3"
    },
    "language_info": {
      "name": "python"
    }
  },
  "cells": [
    {
      "cell_type": "markdown",
      "metadata": {
        "id": "view-in-github",
        "colab_type": "text"
      },
      "source": [
        "<a href=\"https://colab.research.google.com/github/PaulJustinePolestico/CPE-201L-DSA-2-A/blob/main/DSA_Laboratory_Activity_1.ipynb\" target=\"_parent\"><img src=\"https://colab.research.google.com/assets/colab-badge.svg\" alt=\"Open In Colab\"/></a>"
      ]
    },
    {
      "cell_type": "code",
      "execution_count": 3,
      "metadata": {
        "colab": {
          "base_uri": "https://localhost:8080/"
        },
        "id": "bTIMOvPYEfHv",
        "outputId": "9258336c-1774-40e1-b71b-be31de1af8cc"
      },
      "outputs": [
        {
          "output_type": "stream",
          "name": "stdout",
          "text": [
            "Hello, my name is Pentagon and i have 5 sides. Cool right?\n",
            "\n",
            "Hello, my name is Hexagon and i have 6 sides. Cool right?\n",
            "\n",
            "Hello, my name is Octagon and i have 8 sides. Cool right?\n",
            "\n",
            "Would you like to find the area of any of the three (Pentagon/Hexagon/Octagon)?\n",
            "yes\n",
            "Great! You may choose one now! :D\n",
            "\n",
            "is it a pentagon,hexagon, or octagon?\n",
            "octagon\n",
            "What is the length of a side (can be an integer or float number)? :\n",
            "2.6\n",
            "The area of the Octagon is 32.64 units^2. Math magic complete!\n",
            "\n"
          ]
        }
      ],
      "source": [
        "import math\n",
        "\n",
        "class Polygon:\n",
        "  def __init__(self, name,sides,area=0.0):\n",
        "    self.name = name\n",
        "    self.sides = sides\n",
        "    self.area = area\n",
        "\n",
        "  #Getters\n",
        "  def get_name(self):\n",
        "    return self.name\n",
        "\n",
        "  def get_sides(self):\n",
        "    return self.sides\n",
        "\n",
        "  def get_area(self):\n",
        "    return self.area\n",
        "\n",
        "  #Setters\n",
        "  def set_name(self,name):\n",
        "    self.name = name\n",
        "\n",
        "  def set_sides(self,sides):\n",
        "    self.sides = sides\n",
        "\n",
        "  def set_area(self,area):\n",
        "    self.area = area\n",
        "\n",
        "  def say_hi(self):\n",
        "    print(\"Hello, my name is\", self.name,\"and i have\",self.sides,\"sides. Cool right?\\n\")\n",
        "\n",
        "polygons = {}\n",
        "polygons['pentagon'] =  Polygon('Pentagon', 5)\n",
        "polygons['hexagon'] = Polygon('Hexagon', 6)\n",
        "polygons['octagon'] = Polygon('Octagon', 8)\n",
        "\n",
        "for shape in polygons:\n",
        "  polygons[shape].say_hi()\n",
        "\n",
        "question = input (\"Would you like to find the area of any of the three (Pentagon/Hexagon/Octagon)?\\n\").lower()\n",
        "if question == \"yes\":\n",
        "  print (\"Great! You may choose one now! :D\\n\")\n",
        "\n",
        "  shape = input (\"is it a pentagon,hexagon, or octagon?\\n\").lower()\n",
        "\n",
        "  if shape in [\"pentagon\", \"hexagon\", \"octagon\"]:\n",
        "      try:\n",
        "         side = float(input(\"What is the length of a side (can be an integer or float number)? :\\n\"))\n",
        "\n",
        "         if shape == \"pentagon\":\n",
        "           area = (5 * (side ** 2)) / (4 * math.tan(math.pi / 5))\n",
        "         elif shape == \"hexagon\":\n",
        "           area = (6 * (side ** 2)) / (4 * math.tan(math.pi / 6))\n",
        "         elif shape == \"octagon\":\n",
        "           area = (8 * (side ** 2)) / (4 * math.tan(math.pi / 8))\n",
        "\n",
        "         polygons[shape].set_area(area)\n",
        "\n",
        "         print (f\"The area of the {shape.capitalize()} is {area:.2f} units^2. Math magic complete!\\n\")\n",
        "\n",
        "      except ValueError:\n",
        "          print(\"Oops! That's not a valid number. Please try again using an integer or float number\\n\")\n",
        "\n",
        "elif question == \"no\":\n",
        "  print(\"Oh. No problem! You can come back anytime you wish hehehe! :) !\\n\")\n",
        "else:\n",
        "  print(\"Uh...I didn't catch that. Please tell me whether you want to or not. Take your time.\\n\")"
      ]
    }
  ]
}