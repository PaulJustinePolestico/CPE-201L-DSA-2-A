{
  "nbformat": 4,
  "nbformat_minor": 0,
  "metadata": {
    "colab": {
      "provenance": [],
      "authorship_tag": "ABX9TyPojzWJliEl2Yv5EaBsOley",
      "include_colab_link": true
    },
    "kernelspec": {
      "name": "python3",
      "display_name": "Python 3"
    },
    "language_info": {
      "name": "python"
    }
  },
  "cells": [
    {
      "cell_type": "markdown",
      "metadata": {
        "id": "view-in-github",
        "colab_type": "text"
      },
      "source": [
        "<a href=\"https://colab.research.google.com/github/PaulJustinePolestico/CPE-201L-DSA-2-A/blob/main/Laboratory_Activity_4_(Paul).ipynb\" target=\"_parent\"><img src=\"https://colab.research.google.com/assets/colab-badge.svg\" alt=\"Open In Colab\"/></a>"
      ]
    },
    {
      "cell_type": "code",
      "execution_count": 29,
      "metadata": {
        "id": "0HNSbfg3yvUG"
      },
      "outputs": [],
      "source": [
        "#Problem 1\n",
        "\n",
        "#Fruit Class\n",
        "class Fruit:\n",
        "    def __init__(self, name, price, quantity):\n",
        "        self.name = name\n",
        "        self.price = price\n",
        "        self.quantity = quantity\n",
        "        print(f\"Fruit Created: {self.name}, Price: {self.price}, Quantity: {self.quantity}\")\n",
        "\n",
        "    def __del__(self):\n",
        "        print(f\"Fruit Deleted: {self.name}, Price: {self.price}, Quantity: {self.quantity}\")\n",
        "\n",
        "\n",
        "    def copy(self):\n",
        "      print(f\"Fruit Copied: {self.name}, Price: {self.price}, Quantity: {self.quantity}\")\n",
        "      return Fruit(self.name, self.price, self.quantity)\n",
        "\n",
        "    def assign(self, other):\n",
        "      print(f\"Fruit Assigned: {self.name}, Price: {self.price}, Quantity: {self.quantity}\")\n",
        "      self.name = other.name\n",
        "      self.price = other.price\n",
        "      self.quantity = other.quantity\n",
        "\n",
        "    def total_cost(self):\n",
        "      total_cost = self.price * self.quantity\n",
        "      print(f\"Total Cost: {total_cost}\")\n",
        "      return total_cost\n",
        "\n",
        "#Vegetable Class\n",
        "class Vegetable:\n",
        "  def __init__(self, name, price, quantity):\n",
        "    self.name = name\n",
        "    self.price = price\n",
        "    self.quantity = quantity\n",
        "    print(f\"Vegetable Created: {self.name}, Price: {self.price}, Quantity: {self.quantity}\")\n",
        "\n",
        "\n",
        "  def copy(self):\n",
        "    print(f\"Vegetable Copied: {self.name}, Price: {self.price}, Quantity: {self.quantity}\")\n",
        "    return Vegetable(self.name, self.price, self.quantity)\n",
        "\n",
        "  def assign(self, other):\n",
        "    print(f\"Vegetable Assigned: {self.name}, Price: {self.price}, Quantity: {self.quantity}\")\n",
        "    self.name = other.name\n",
        "    self.price = other.price\n",
        "    self.quantity = other.quantity\n",
        "\n",
        "  def total_cost(self):\n",
        "    total_cost = self.price * self.quantity\n",
        "    print(f\"Total Cost: {total_cost}\")\n",
        "    return total_cost"
      ]
    },
    {
      "cell_type": "code",
      "source": [
        "#Main Class for testing\n",
        "\n",
        "apple = Fruit(\"Apple\", 10, 7)\n",
        "apple.total_cost()\n",
        "print()\n",
        "\n",
        "apple_copy = apple.copy()\n",
        "banana = Fruit(\"Banana\", 10, 8)\n",
        "apple_copy.assign(banana)\n",
        "apple_copy.total_cost()\n",
        "print()\n",
        "\n",
        "broccoli = Vegetable(\"Broccoli\", 60, 12)\n",
        "broccoli.total_cost()\n",
        "print()\n",
        "\n",
        "broccoli_copy = broccoli.copy()\n",
        "lettuce = Vegetable(\"Lettuce\", 50, 10)\n",
        "broccoli_copy.assign(lettuce)\n",
        "broccoli_copy.total_cost()\n",
        "print()\n"
      ],
      "metadata": {
        "colab": {
          "base_uri": "https://localhost:8080/"
        },
        "id": "UiGsXqEp7Yf1",
        "outputId": "14774bbf-8772-4708-b9ad-f5d8bdaa3d0a"
      },
      "execution_count": 51,
      "outputs": [
        {
          "output_type": "stream",
          "name": "stdout",
          "text": [
            "Fruit Created: Apple, Price: 10, Quantity: 7\n",
            "Fruit Deleted: Apple, Price: 10, Quantity: 7\n",
            "Total Cost: 70\n",
            "\n",
            "Fruit Copied: Apple, Price: 10, Quantity: 7\n",
            "Fruit Created: Apple, Price: 10, Quantity: 7\n",
            "Fruit Deleted: Banana, Price: 10, Quantity: 8\n",
            "Fruit Created: Banana, Price: 10, Quantity: 8\n",
            "Fruit Deleted: Banana, Price: 10, Quantity: 8\n",
            "Fruit Assigned: Apple, Price: 10, Quantity: 7\n",
            "Total Cost: 80\n",
            "\n",
            "Vegetable Created: Broccoli, Price: 60, Quantity: 12\n",
            "Vegetable Deleted: Broccoli, Price: 60, Quantity: 12\n",
            "Total Cost: 720\n",
            "\n",
            "Vegetable Copied: Broccoli, Price: 60, Quantity: 12\n",
            "Vegetable Created: Broccoli, Price: 60, Quantity: 12\n",
            "Vegetable Deleted: Lettuce, Price: 50, Quantity: 10\n",
            "Vegetable Created: Lettuce, Price: 50, Quantity: 10\n",
            "Vegetable Deleted: Lettuce, Price: 50, Quantity: 10\n",
            "Vegetable Assigned: Broccoli, Price: 60, Quantity: 12\n",
            "Total Cost: 500\n",
            "\n"
          ]
        }
      ]
    },
    {
      "cell_type": "code",
      "source": [
        "#Problem 2\n",
        "#Driver Code\n",
        "\n",
        "def display_item_details(item):\n",
        "  print(f\"Item Name: {item.name}\")\n",
        "  print(f\"Item Price: {item.price}\")\n",
        "  print(f\"Item Quantity: {item.quantity}\")\n",
        "  print()\n",
        "Grocery_list = [\n",
        "    Fruit(\"Apple\", 10, 7),\n",
        "    Fruit(\"Banana\",10, 8),\n",
        "    Vegetable(\"Broccoli\",60,12),\n",
        "    Vegetable(\"Lettuce\",50, 10)\n",
        "]\n",
        "\n",
        "#Problem 3\n",
        "def TotalSum(Grocery_list):\n",
        "  total = 0\n",
        "  for item in Grocery_list:\n",
        "    total += item.total_cost()\n",
        "  print(f\"Total Sum: {total}\")\n",
        "\n",
        "for item in Grocery_list:\n",
        "  display_item_details(item)\n",
        "\n",
        "  TotalSum(Grocery_list)\n"
      ],
      "metadata": {
        "colab": {
          "base_uri": "https://localhost:8080/"
        },
        "id": "HXoenJQbFQrJ",
        "outputId": "a34c1b95-e035-4652-c1b0-16268a38f9e4"
      },
      "execution_count": 69,
      "outputs": [
        {
          "output_type": "stream",
          "name": "stdout",
          "text": [
            "Fruit Created: Apple, Price: 10, Quantity: 7\n",
            "Fruit Created: Banana, Price: 10, Quantity: 8\n",
            "Vegetable Created: Broccoli, Price: 60, Quantity: 12\n",
            "Vegetable Created: Lettuce, Price: 50, Quantity: 10\n",
            "Vegetable Deleted: Broccoli, Price: 60, Quantity: 12\n",
            "Fruit Deleted: Banana, Price: 10, Quantity: 8\n",
            "Fruit Deleted: Apple, Price: 10, Quantity: 7\n",
            "Vegetable Deleted: Lettuce, Price: 50, Quantity: 12\n",
            "Item Name: Apple\n",
            "Item Price: 10\n",
            "Item Quantity: 7\n",
            "\n",
            "Total Cost: 70\n",
            "Total Cost: 80\n",
            "Total Cost: 720\n",
            "Total Cost: 500\n",
            "Total Sum: 1370\n",
            "Item Name: Banana\n",
            "Item Price: 10\n",
            "Item Quantity: 8\n",
            "\n",
            "Total Cost: 70\n",
            "Total Cost: 80\n",
            "Total Cost: 720\n",
            "Total Cost: 500\n",
            "Total Sum: 1370\n",
            "Item Name: Broccoli\n",
            "Item Price: 60\n",
            "Item Quantity: 12\n",
            "\n",
            "Total Cost: 70\n",
            "Total Cost: 80\n",
            "Total Cost: 720\n",
            "Total Cost: 500\n",
            "Total Sum: 1370\n",
            "Item Name: Lettuce\n",
            "Item Price: 50\n",
            "Item Quantity: 10\n",
            "\n",
            "Total Cost: 70\n",
            "Total Cost: 80\n",
            "Total Cost: 720\n",
            "Total Cost: 500\n",
            "Total Sum: 1370\n"
          ]
        }
      ]
    },
    {
      "cell_type": "code",
      "source": [
        "#Problem 4\n",
        "def delete_item_by_name(Grocery_list, item_name):\n",
        "  for i, item in enumerate(Grocery_list):\n",
        "    if item.name.lower () == item_name.lower():\n",
        "      print(f\"Deleted: {item.name}, Price: {item.price}, Quantity: {item.quantity}\")\n",
        "      del Grocery_list[i]\n",
        "      return\n",
        "      Grocery_list.remove(item)\n",
        "delete_item_by_name(Grocery_list, \"lettuce\")\n",
        "for item in Grocery_list:\n",
        "  display_item_details(item)\n",
        "\n"
      ],
      "metadata": {
        "colab": {
          "base_uri": "https://localhost:8080/"
        },
        "id": "LtRJJBDgMmyn",
        "outputId": "c5042323-d6ee-428a-d280-72cff829f54c"
      },
      "execution_count": 74,
      "outputs": [
        {
          "output_type": "stream",
          "name": "stdout",
          "text": [
            "Item Name: Apple\n",
            "Item Price: 10\n",
            "Item Quantity: 7\n",
            "\n",
            "Item Name: Banana\n",
            "Item Price: 10\n",
            "Item Quantity: 8\n",
            "\n",
            "Item Name: Broccoli\n",
            "Item Price: 60\n",
            "Item Quantity: 12\n",
            "\n"
          ]
        }
      ]
    }
  ]
}