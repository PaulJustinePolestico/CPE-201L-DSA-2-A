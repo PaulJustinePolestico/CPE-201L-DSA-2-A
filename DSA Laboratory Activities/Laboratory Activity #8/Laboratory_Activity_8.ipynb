{
  "nbformat": 4,
  "nbformat_minor": 0,
  "metadata": {
    "colab": {
      "provenance": [],
      "authorship_tag": "ABX9TyMkxIVSbljNKegnGQzfqxik",
      "include_colab_link": true
    },
    "kernelspec": {
      "name": "python3",
      "display_name": "Python 3"
    },
    "language_info": {
      "name": "python"
    }
  },
  "cells": [
    {
      "cell_type": "markdown",
      "metadata": {
        "id": "view-in-github",
        "colab_type": "text"
      },
      "source": [
        "<a href=\"https://colab.research.google.com/github/PaulJustinePolestico/CPE-201L-DSA-2-A/blob/main/Laboratory_Activity_8.ipynb\" target=\"_parent\"><img src=\"https://colab.research.google.com/assets/colab-badge.svg\" alt=\"Open In Colab\"/></a>"
      ]
    },
    {
      "cell_type": "code",
      "execution_count": 1,
      "metadata": {
        "colab": {
          "base_uri": "https://localhost:8080/"
        },
        "id": "toFAS8Oxf_xl",
        "outputId": "8bd61447-f925-489c-b958-9f8a661d0598"
      },
      "outputs": [
        {
          "output_type": "stream",
          "name": "stdout",
          "text": [
            "Pushed Element: 1\n",
            "Pushed Element: 2\n",
            "Pushed Element: 3\n",
            "Pushed Element: 4\n",
            "Pushed Element: 5\n",
            "The elements in the stack are:['1', '2', '3', '4', '5']\n",
            "The length of the stack is:  5\n",
            "The first element removed: 5 \n",
            "\n",
            "The second element removed: 4 \n",
            "\n",
            "The third element removed: 3 \n",
            "\n",
            "The stack after the removal of three elements: ['1', '2'] \n",
            "\n",
            "The length of the stack after the removal of the three elements is:  2\n"
          ]
        }
      ],
      "source": [
        "# Stack implementation in python\n",
        "\n",
        "\n",
        "# Creating a stack\n",
        "def create_stack():\n",
        "    stack = []\n",
        "    return stack\n",
        "\n",
        "\n",
        "# Creating an empty stack\n",
        "def is_empty(stack):\n",
        "    return len(stack) == 0\n",
        "\n",
        "# Adding items into the stack\n",
        "def push(stack, item):\n",
        "    stack.append(item)\n",
        "    print(\"Pushed Element: \" + item)\n",
        "\n",
        "# Removing an element from the stack\n",
        "def pop(stack):\n",
        "    if (is_empty(stack)):\n",
        "        return \"The stack is empty\"\n",
        "    return stack.pop()\n",
        "\n",
        "stack = create_stack()\n",
        "push(stack, str(1))\n",
        "push(stack, str(2))\n",
        "push(stack, str(3))\n",
        "push(stack, str(4))\n",
        "push(stack, str(5))\n",
        "\n",
        "\n",
        "print(\"The elements in the stack are:\"+ str(stack))\n",
        "print(\"The length of the stack is: \",len(stack))\n",
        "\n",
        "element1 = stack.pop()\n",
        "print(f\"The first element removed: {element1} \\n\")\n",
        "\n",
        "element2 = stack.pop()\n",
        "print(f\"The second element removed: {element2} \\n\")\n",
        "\n",
        "element3 = stack.pop()\n",
        "print(f\"The third element removed: {element3} \\n\" )\n",
        "\n",
        "print(f\"The stack after the removal of three elements: {stack} \\n\" )\n",
        "print(\"The length of the stack after the removal of the three elements is: \", len(stack))"
      ]
    }
  ]
}