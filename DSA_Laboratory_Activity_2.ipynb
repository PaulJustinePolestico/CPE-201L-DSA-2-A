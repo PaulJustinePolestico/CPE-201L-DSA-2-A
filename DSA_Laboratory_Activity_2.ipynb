{
  "nbformat": 4,
  "nbformat_minor": 0,
  "metadata": {
    "colab": {
      "provenance": [],
      "authorship_tag": "ABX9TyOma5ePRhfDcmxTmpkYH9Pi",
      "include_colab_link": true
    },
    "kernelspec": {
      "name": "python3",
      "display_name": "Python 3"
    },
    "language_info": {
      "name": "python"
    }
  },
  "cells": [
    {
      "cell_type": "markdown",
      "metadata": {
        "id": "view-in-github",
        "colab_type": "text"
      },
      "source": [
        "<a href=\"https://colab.research.google.com/github/PaulJustinePolestico/CPE-201L-DSA-2-A/blob/main/DSA_Laboratory_Activity_2.ipynb\" target=\"_parent\"><img src=\"https://colab.research.google.com/assets/colab-badge.svg\" alt=\"Open In Colab\"/></a>"
      ]
    },
    {
      "cell_type": "code",
      "execution_count": null,
      "metadata": {
        "colab": {
          "base_uri": "https://localhost:8080/"
        },
        "id": "izilsq0eLmD4",
        "outputId": "ca845591-40cd-418b-e057-bd644ec36226"
      },
      "outputs": [
        {
          "output_type": "stream",
          "name": "stdout",
          "text": [
            "Enter the radius of the circle: 2\n",
            "The area of the circle with radius 2.0 is 12.566370614359172\n"
          ]
        }
      ],
      "source": [
        "import math\n",
        "\n",
        "radius = float(input(\"Enter the radius of the circle: \"))\n",
        "\n",
        "area = math.pi * radius ** 2\n",
        "\n",
        "print(\"The area of the circle with radius\", radius, \"is\", area)"
      ]
    },
    {
      "cell_type": "code",
      "source": [
        "#Piecewise Function\n",
        "x = float(input(\"Enter the value of x: \"))\n",
        "\n",
        "if x < 0:\n",
        "  print(-x)\n",
        "\n",
        "else:\n",
        "  print(x)\n"
      ],
      "metadata": {
        "colab": {
          "base_uri": "https://localhost:8080/"
        },
        "id": "wesJ-2PMYrLX",
        "outputId": "9df4fe96-7aaf-471c-aef5-73f7dbfe638b"
      },
      "execution_count": null,
      "outputs": [
        {
          "output_type": "stream",
          "name": "stdout",
          "text": [
            "Enter the value of x: 0\n",
            "0.0\n"
          ]
        }
      ]
    },
    {
      "cell_type": "code",
      "source": [
        "#Recursive Loop\n",
        "def find_min_max(nums):\n",
        "    if len(nums) == 1:\n",
        "        return nums[0], nums[0]\n",
        "    else:\n",
        "        sub_min, sub_max = find_min_max(nums[1:])\n",
        "        minimum = nums[0] if nums[0] < sub_min else sub_min\n",
        "        maximum = nums[0] if nums[0] > sub_max else sub_max\n",
        "        return minimum, maximum\n",
        "\n",
        "nums = [4,3,7,9,1,2]\n",
        "minimum,maximum = find_min_max(nums)\n",
        "print(\"Minimum:\",minimum)\n",
        "print(\"Maximum:\",maximum)"
      ],
      "metadata": {
        "colab": {
          "base_uri": "https://localhost:8080/"
        },
        "id": "ojEAMudppsYP",
        "outputId": "dc263af0-b8ea-47f0-d33e-abdd53b781d0"
      },
      "execution_count": null,
      "outputs": [
        {
          "output_type": "stream",
          "name": "stdout",
          "text": [
            "Minimum: 1\n",
            "Maximum: 9\n"
          ]
        }
      ]
    }
  ]
}