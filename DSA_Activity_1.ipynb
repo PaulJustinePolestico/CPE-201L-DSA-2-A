{
  "nbformat": 4,
  "nbformat_minor": 0,
  "metadata": {
    "colab": {
      "provenance": [],
      "authorship_tag": "ABX9TyP3lIwR6ioYkP4bKUQiXktT",
      "include_colab_link": true
    },
    "kernelspec": {
      "name": "python3",
      "display_name": "Python 3"
    },
    "language_info": {
      "name": "python"
    }
  },
  "cells": [
    {
      "cell_type": "markdown",
      "metadata": {
        "id": "view-in-github",
        "colab_type": "text"
      },
      "source": [
        "<a href=\"https://colab.research.google.com/github/PaulJustinePolestico/CPE-201L-DSA-2-A/blob/main/DSA_Activity_1.ipynb\" target=\"_parent\"><img src=\"https://colab.research.google.com/assets/colab-badge.svg\" alt=\"Open In Colab\"/></a>"
      ]
    },
    {
      "cell_type": "markdown",
      "source": [
        "Algorithm 1"
      ],
      "metadata": {
        "id": "EWJlR3IizG18"
      }
    },
    {
      "cell_type": "code",
      "execution_count": null,
      "metadata": {
        "colab": {
          "base_uri": "https://localhost:8080/"
        },
        "id": "6vfzCJNoy4rJ",
        "outputId": "33930416-6a1c-4158-ea43-bcaa823f21e4"
      },
      "outputs": [
        {
          "output_type": "stream",
          "name": "stdout",
          "text": [
            "Enter radius of circle : 5\n",
            "The area of the circle given the radius is 78.53981633974483\n"
          ]
        }
      ],
      "source": [
        "#Area of a circle (If radius is given)\n",
        "from math import pi\n",
        "r = float(input (\"Enter radius of circle : \"))\n",
        "result = pi * r * r\n",
        "print (\"The area of the circle given the radius is\", result)\n"
      ]
    },
    {
      "cell_type": "markdown",
      "source": [
        "Algorithm 2"
      ],
      "metadata": {
        "id": "h5F0-J6yz58U"
      }
    },
    {
      "cell_type": "code",
      "source": [
        "#Area of a circle (If diameter is given)\n",
        "from math import pi\n",
        "r = float(input (\"Enter diameter of circle : \"))\n",
        "result = pi * r * r / 4\n",
        "print (\"The area of the circle givent the diameter is\", result)"
      ],
      "metadata": {
        "colab": {
          "base_uri": "https://localhost:8080/"
        },
        "id": "daAwbZ_30A3z",
        "outputId": "d3695592-8bd7-4979-8aef-5fe8a3f00f65"
      },
      "execution_count": null,
      "outputs": [
        {
          "output_type": "stream",
          "name": "stdout",
          "text": [
            "Enter diameter of circle : 10\n",
            "The area of the circle givent the diameter is 78.53981633974483\n"
          ]
        }
      ]
    }
  ]
}